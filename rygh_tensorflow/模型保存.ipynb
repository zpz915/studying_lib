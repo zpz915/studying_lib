{
 "cells": [
  {
   "cell_type": "code",
   "execution_count": 1,
   "id": "4e19efa4",
   "metadata": {},
   "outputs": [],
   "source": [
    "#模型保存  架构 权重  回调函数的保存  自定义模型保存   整体架构的保存"
   ]
  },
  {
   "cell_type": "code",
   "execution_count": null,
   "id": "9b5f14ee",
   "metadata": {},
   "outputs": [],
   "source": [
    "\n"
   ]
  },
  {
   "cell_type": "code",
   "execution_count": 1,
   "id": "f59a87b6",
   "metadata": {},
   "outputs": [
    {
     "name": "stdout",
     "output_type": "stream",
     "text": [
      "Tensorflow version:2.0.0\n"
     ]
    }
   ],
   "source": [
    "import tensorflow as tf\n",
    "import os\n",
    "print(\"Tensorflow version:{}\".format(tf.__version__))"
   ]
  },
  {
   "cell_type": "code",
   "execution_count": 2,
   "id": "d2081a9b",
   "metadata": {},
   "outputs": [],
   "source": [
    "import pandas as pd\n",
    "import numpy as np\n",
    "import matplotlib.pyplot as plt\n",
    "%matplotlib inline"
   ]
  },
  {
   "cell_type": "code",
   "execution_count": 3,
   "id": "5e0047ae",
   "metadata": {},
   "outputs": [],
   "source": [
    "(train_image,train_label),(test_image,test_label) = tf.keras.datasets.fashion_mnist.load_data()"
   ]
  },
  {
   "cell_type": "code",
   "execution_count": 4,
   "id": "20237445",
   "metadata": {},
   "outputs": [
    {
     "data": {
      "text/plain": [
       "(60000, 28, 28)"
      ]
     },
     "execution_count": 4,
     "metadata": {},
     "output_type": "execute_result"
    }
   ],
   "source": [
    "train_image.shape"
   ]
  },
  {
   "cell_type": "code",
   "execution_count": 5,
   "id": "1a916829",
   "metadata": {},
   "outputs": [
    {
     "data": {
      "text/plain": [
       "(60000,)"
      ]
     },
     "execution_count": 5,
     "metadata": {},
     "output_type": "execute_result"
    }
   ],
   "source": [
    "train_label.shape"
   ]
  },
  {
   "cell_type": "code",
   "execution_count": 6,
   "id": "7f5aaf67",
   "metadata": {},
   "outputs": [
    {
     "data": {
      "text/plain": [
       "((10000, 28, 28), (10000,))"
      ]
     },
     "execution_count": 6,
     "metadata": {},
     "output_type": "execute_result"
    }
   ],
   "source": [
    "test_image.shape,test_label.shape"
   ]
  },
  {
   "cell_type": "code",
   "execution_count": 7,
   "id": "dfe759d2",
   "metadata": {},
   "outputs": [
    {
     "data": {
      "text/plain": [
       "<matplotlib.image.AxesImage at 0x7f9661ae9350>"
      ]
     },
     "execution_count": 7,
     "metadata": {},
     "output_type": "execute_result"
    },
    {
     "data": {
      "image/png": "[encoded data removed]",
      "text/plain": [
       "<Figure size 432x288 with 1 Axes>"
      ]
     },
     "metadata": {
      "needs_background": "light"
     },
     "output_type": "display_data"
    }
   ],
   "source": [
    "plt.imshow(train_image[0])"
   ]
  },
  {
   "cell_type": "code",
   "execution_count": 8,
   "id": "923e41a6",
   "metadata": {},
   "outputs": [
    {
     "data": {
      "text/plain": [
       "255"
      ]
     },
     "execution_count": 8,
     "metadata": {},
     "output_type": "execute_result"
    }
   ],
   "source": [
    "np.max(train_image[0])"
   ]
  },
  {
   "cell_type": "code",
   "execution_count": 9,
   "id": "be15c766",
   "metadata": {},
   "outputs": [
    {
     "data": {
      "text/plain": [
       "array([9, 0, 0, ..., 3, 0, 5], dtype=uint8)"
      ]
     },
     "execution_count": 9,
     "metadata": {},
     "output_type": "execute_result"
    }
   ],
   "source": [
    "train_label"
   ]
  },
  {
   "cell_type": "code",
   "execution_count": 10,
   "id": "3ee16b19",
   "metadata": {},
   "outputs": [],
   "source": [
    "train_image = train_image/255\n",
    "test_image = test_image/255  #归一化处理"
   ]
  },
  {
   "cell_type": "code",
   "execution_count": 11,
   "id": "ace3fcb9",
   "metadata": {},
   "outputs": [
    {
     "data": {
      "text/plain": [
       "(60000, 28, 28)"
      ]
     },
     "execution_count": 11,
     "metadata": {},
     "output_type": "execute_result"
    }
   ],
   "source": [
    "train_image.shape"
   ]
  },
  {
   "cell_type": "code",
   "execution_count": 13,
   "id": "2e6dba3f",
   "metadata": {},
   "outputs": [
    {
     "name": "stderr",
     "output_type": "stream",
     "text": [
      "2021-11-19 17:29:12.833818: W tensorflow/stream_executor/platform/default/dso_loader.cc:55] Could not load dynamic library 'libcuda.so.1'; dlerror: libcuda.so.1: cannot open shared object file: No such file or directory\n",
      "2021-11-19 17:29:12.833842: E tensorflow/stream_executor/cuda/cuda_driver.cc:318] failed call to cuInit: UNKNOWN ERROR (303)\n",
      "2021-11-19 17:29:12.833882: I tensorflow/stream_executor/cuda/cuda_diagnostics.cc:156] kernel driver does not appear to be running on this host (mi-HP-ProDesk-680-G6-PCI-Microtower-PC): /proc/driver/nvidia/version does not exist\n",
      "2021-11-19 17:29:12.834090: I tensorflow/core/platform/cpu_feature_guard.cc:142] Your CPU supports instructions that this TensorFlow binary was not compiled to use: SSE4.1 SSE4.2 AVX AVX2 FMA\n",
      "2021-11-19 17:29:12.837888: I tensorflow/core/platform/profile_utils/cpu_utils.cc:94] CPU Frequency: 2899885000 Hz\n",
      "2021-11-19 17:29:12.838151: I tensorflow/compiler/xla/service/service.cc:168] XLA service 0x55b8e4a8c390 executing computations on platform Host. Devices:\n",
      "2021-11-19 17:29:12.838165: I tensorflow/compiler/xla/service/service.cc:175]   StreamExecutor device (0): Host, Default Version\n"
     ]
    }
   ],
   "source": [
    "model = tf.keras.Sequential()\n",
    "model.add(tf.keras.layers.Flatten(input_shape=(28,28)))\n",
    "model.add(tf.keras.layers.Dense(128,activation=\"relu\"))\n",
    "model.add(tf.keras.layers.Dense(10,activation=\"softmax\"))"
   ]
  },
  {
   "cell_type": "code",
   "execution_count": 14,
   "id": "400a819b",
   "metadata": {},
   "outputs": [
    {
     "name": "stdout",
     "output_type": "stream",
     "text": [
      "Model: \"sequential\"\n",
      "_________________________________________________________________\n",
      "Layer (type)                 Output Shape              Param #   \n",
      "=================================================================\n",
      "flatten (Flatten)            (None, 784)               0         \n",
      "_________________________________________________________________\n",
      "dense (Dense)                (None, 128)               100480    \n",
      "_________________________________________________________________\n",
      "dense_1 (Dense)              (None, 10)                1290      \n",
      "=================================================================\n",
      "Total params: 101,770\n",
      "Trainable params: 101,770\n",
      "Non-trainable params: 0\n",
      "_________________________________________________________________\n"
     ]
    }
   ],
   "source": [
    "model.summary()"
   ]
  },
  {
   "cell_type": "code",
   "execution_count": 15,
   "id": "f5aca71e",
   "metadata": {},
   "outputs": [],
   "source": [
    "model.compile(optimizer=\"adam\",\n",
    "             loss=\"sparse_categorical_crossentropy\",\n",
    "             metrics=[\"acc\"])"
   ]
  },
  {
   "cell_type": "code",
   "execution_count": 16,
   "id": "b0df09d4",
   "metadata": {},
   "outputs": [
    {
     "name": "stdout",
     "output_type": "stream",
     "text": [
      "Train on 60000 samples\n",
      "Epoch 1/3\n",
      "60000/60000 [==============================] - 2s 33us/sample - loss: 0.4945 - acc: 0.8270\n",
      "Epoch 2/3\n",
      "60000/60000 [==============================] - 2s 26us/sample - loss: 0.3736 - acc: 0.8641\n",
      "Epoch 3/3\n",
      "60000/60000 [==============================] - 2s 32us/sample - loss: 0.3337 - acc: 0.8783\n"
     ]
    },
    {
     "data": {
      "text/plain": [
       "<tensorflow.python.keras.callbacks.History at 0x7f4fe9ab3a90>"
      ]
     },
     "execution_count": 16,
     "metadata": {},
     "output_type": "execute_result"
    }
   ],
   "source": [
    "model.fit(train_image,train_label,epochs=3)"
   ]
  },
  {
   "cell_type": "code",
   "execution_count": 17,
   "id": "46c4dad3",
   "metadata": {},
   "outputs": [
    {
     "data": {
      "text/plain": [
       "[0.36883706929683685, 0.8647]"
      ]
     },
     "execution_count": 17,
     "metadata": {},
     "output_type": "execute_result"
    }
   ],
   "source": [
    "model.evaluate(test_image,test_label,verbose=0)"
   ]
  },
  {
   "cell_type": "code",
   "execution_count": 18,
   "id": "92044842",
   "metadata": {},
   "outputs": [],
   "source": [
    "#1.模型的整体保存 权重值 模型配置 优化器配置  设置检查点 稍后从完全状态继续训练 无需访问原始代码\n",
    "model.save(\"less_model.h5\") #hdf5 是保存的基本格式   目前保存在当前路径的less_model 文件"
   ]
  },
  {
   "cell_type": "code",
   "execution_count": 19,
   "id": "ad81ffa1",
   "metadata": {},
   "outputs": [],
   "source": [
    "#以后如何使用模型 加载就行\n",
    "new_model = tf.keras.models.load_model(\"less_model.h5\")"
   ]
  },
  {
   "cell_type": "raw",
   "id": "5543c1d3",
   "metadata": {},
   "source": [
    "new.model.summary()"
   ]
  },
  {
   "cell_type": "code",
   "execution_count": 21,
   "id": "7534f56f",
   "metadata": {},
   "outputs": [
    {
     "name": "stdout",
     "output_type": "stream",
     "text": [
      "Model: \"sequential\"\n",
      "_________________________________________________________________\n",
      "Layer (type)                 Output Shape              Param #   \n",
      "=================================================================\n",
      "flatten (Flatten)            (None, 784)               0         \n",
      "_________________________________________________________________\n",
      "dense (Dense)                (None, 128)               100480    \n",
      "_________________________________________________________________\n",
      "dense_1 (Dense)              (None, 10)                1290      \n",
      "=================================================================\n",
      "Total params: 101,770\n",
      "Trainable params: 101,770\n",
      "Non-trainable params: 0\n",
      "_________________________________________________________________\n"
     ]
    }
   ],
   "source": [
    "new_model.summary()"
   ]
  },
  {
   "cell_type": "code",
   "execution_count": 22,
   "id": "29f4ac80",
   "metadata": {},
   "outputs": [
    {
     "data": {
      "text/plain": [
       "[0.36883706929683685, 0.8647]"
      ]
     },
     "execution_count": 22,
     "metadata": {},
     "output_type": "execute_result"
    }
   ],
   "source": [
    "new_model.evaluate(test_image,test_label,verbose=0)  #可见结果一致  权重完全相同"
   ]
  },
  {
   "cell_type": "code",
   "execution_count": 23,
   "id": "531c5a35",
   "metadata": {},
   "outputs": [],
   "source": [
    "#只保存模型架构\n",
    "json_config = model.to_json()\n"
   ]
  },
  {
   "cell_type": "code",
   "execution_count": 24,
   "id": "477b540e",
   "metadata": {},
   "outputs": [
    {
     "data": {
      "text/plain": [
       "'{\"class_name\": \"Sequential\", \"config\": {\"name\": \"sequential\", \"layers\": [{\"class_name\": \"Flatten\", \"config\": {\"name\": \"flatten\", \"trainable\": true, \"batch_input_shape\": [null, 28, 28], \"dtype\": \"float32\", \"data_format\": \"channels_last\"}}, {\"class_name\": \"Dense\", \"config\": {\"name\": \"dense\", \"trainable\": true, \"dtype\": \"float32\", \"units\": 128, \"activation\": \"relu\", \"use_bias\": true, \"kernel_initializer\": {\"class_name\": \"GlorotUniform\", \"config\": {\"seed\": null}}, \"bias_initializer\": {\"class_name\": \"Zeros\", \"config\": {}}, \"kernel_regularizer\": null, \"bias_regularizer\": null, \"activity_regularizer\": null, \"kernel_constraint\": null, \"bias_constraint\": null}}, {\"class_name\": \"Dense\", \"config\": {\"name\": \"dense_1\", \"trainable\": true, \"dtype\": \"float32\", \"units\": 10, \"activation\": \"softmax\", \"use_bias\": true, \"kernel_initializer\": {\"class_name\": \"GlorotUniform\", \"config\": {\"seed\": null}}, \"bias_initializer\": {\"class_name\": \"Zeros\", \"config\": {}}, \"kernel_regularizer\": null, \"bias_regularizer\": null, \"activity_regularizer\": null, \"kernel_constraint\": null, \"bias_constraint\": null}}]}, \"keras_version\": \"2.2.4-tf\", \"backend\": \"tensorflow\"}'"
      ]
     },
     "execution_count": 24,
     "metadata": {},
     "output_type": "execute_result"
    }
   ],
   "source": [
    "json_config"
   ]
  },
  {
   "cell_type": "code",
   "execution_count": 26,
   "id": "6381fc40",
   "metadata": {},
   "outputs": [],
   "source": [
    "#重建模型\n",
    "reinitalized_model = tf.keras.models.model_from_json(json_config)"
   ]
  },
  {
   "cell_type": "code",
   "execution_count": 27,
   "id": "15865c08",
   "metadata": {},
   "outputs": [
    {
     "name": "stdout",
     "output_type": "stream",
     "text": [
      "Model: \"sequential\"\n",
      "_________________________________________________________________\n",
      "Layer (type)                 Output Shape              Param #   \n",
      "=================================================================\n",
      "flatten (Flatten)            (None, 784)               0         \n",
      "_________________________________________________________________\n",
      "dense (Dense)                (None, 128)               100480    \n",
      "_________________________________________________________________\n",
      "dense_1 (Dense)              (None, 10)                1290      \n",
      "=================================================================\n",
      "Total params: 101,770\n",
      "Trainable params: 101,770\n",
      "Non-trainable params: 0\n",
      "_________________________________________________________________\n"
     ]
    }
   ],
   "source": [
    "reinitalized_model.summary()"
   ]
  },
  {
   "cell_type": "code",
   "execution_count": 28,
   "id": "ad3daa70",
   "metadata": {},
   "outputs": [
    {
     "ename": "RuntimeError",
     "evalue": "You must compile your model before training/testing. Use `model.compile(optimizer, loss)`.",
     "output_type": "error",
     "traceback": [
      "\u001b[0;31m---------------------------------------------------------------------------\u001b[0m",
      "\u001b[0;31mRuntimeError\u001b[0m                              Traceback (most recent call last)",
      "\u001b[0;32m/tmp/ipykernel_29389/3420582510.py\u001b[0m in \u001b[0;36m<module>\u001b[0;34m\u001b[0m\n\u001b[0;32m----> 1\u001b[0;31m \u001b[0mreinitalized_model\u001b[0m\u001b[0;34m.\u001b[0m\u001b[0mevaluate\u001b[0m\u001b[0;34m(\u001b[0m\u001b[0mtest_image\u001b[0m\u001b[0;34m,\u001b[0m\u001b[0mtest_label\u001b[0m\u001b[0;34m,\u001b[0m\u001b[0mverbose\u001b[0m\u001b[0;34m=\u001b[0m\u001b[0;36m0\u001b[0m\u001b[0;34m)\u001b[0m\u001b[0;34m\u001b[0m\u001b[0;34m\u001b[0m\u001b[0m\n\u001b[0m",
      "\u001b[0;32m~/zpz/anaconda3/envs/tf_2.0_gpu/lib/python3.7/site-packages/tensorflow_core/python/keras/engine/training.py\u001b[0m in \u001b[0;36mevaluate\u001b[0;34m(self, x, y, batch_size, verbose, sample_weight, steps, callbacks, max_queue_size, workers, use_multiprocessing)\u001b[0m\n\u001b[1;32m    816\u001b[0m     \"\"\"\n\u001b[1;32m    817\u001b[0m     \u001b[0m_keras_api_gauge\u001b[0m\u001b[0;34m.\u001b[0m\u001b[0mget_cell\u001b[0m\u001b[0;34m(\u001b[0m\u001b[0;34m'evaluate'\u001b[0m\u001b[0;34m)\u001b[0m\u001b[0;34m.\u001b[0m\u001b[0mset\u001b[0m\u001b[0;34m(\u001b[0m\u001b[0;32mTrue\u001b[0m\u001b[0;34m)\u001b[0m\u001b[0;34m\u001b[0m\u001b[0;34m\u001b[0m\u001b[0m\n\u001b[0;32m--> 818\u001b[0;31m     \u001b[0mself\u001b[0m\u001b[0;34m.\u001b[0m\u001b[0m_assert_compile_was_called\u001b[0m\u001b[0;34m(\u001b[0m\u001b[0;34m)\u001b[0m\u001b[0;34m\u001b[0m\u001b[0;34m\u001b[0m\u001b[0m\n\u001b[0m\u001b[1;32m    819\u001b[0m     \u001b[0mself\u001b[0m\u001b[0;34m.\u001b[0m\u001b[0m_check_call_args\u001b[0m\u001b[0;34m(\u001b[0m\u001b[0;34m'evaluate'\u001b[0m\u001b[0;34m)\u001b[0m\u001b[0;34m\u001b[0m\u001b[0;34m\u001b[0m\u001b[0m\n\u001b[1;32m    820\u001b[0m \u001b[0;34m\u001b[0m\u001b[0m\n",
      "\u001b[0;32m~/zpz/anaconda3/envs/tf_2.0_gpu/lib/python3.7/site-packages/tensorflow_core/python/keras/engine/training.py\u001b[0m in \u001b[0;36m_assert_compile_was_called\u001b[0;34m(self)\u001b[0m\n\u001b[1;32m   2872\u001b[0m     \u001b[0;31m# (i.e. whether the model is built and its inputs/outputs are set).\u001b[0m\u001b[0;34m\u001b[0m\u001b[0;34m\u001b[0m\u001b[0;34m\u001b[0m\u001b[0m\n\u001b[1;32m   2873\u001b[0m     \u001b[0;32mif\u001b[0m \u001b[0;32mnot\u001b[0m \u001b[0mself\u001b[0m\u001b[0;34m.\u001b[0m\u001b[0moptimizer\u001b[0m\u001b[0;34m:\u001b[0m\u001b[0;34m\u001b[0m\u001b[0;34m\u001b[0m\u001b[0m\n\u001b[0;32m-> 2874\u001b[0;31m       raise RuntimeError('You must compile your model before '\n\u001b[0m\u001b[1;32m   2875\u001b[0m                          \u001b[0;34m'training/testing. '\u001b[0m\u001b[0;34m\u001b[0m\u001b[0;34m\u001b[0m\u001b[0m\n\u001b[1;32m   2876\u001b[0m                          'Use `model.compile(optimizer, loss)`.')\n",
      "\u001b[0;31mRuntimeError\u001b[0m: You must compile your model before training/testing. Use `model.compile(optimizer, loss)`."
     ]
    }
   ],
   "source": [
    "reinitalized_model.evaluate(test_image,test_label,verbose=0)#没有配置和训练"
   ]
  },
  {
   "cell_type": "code",
   "execution_count": 29,
   "id": "2a90d83b",
   "metadata": {},
   "outputs": [],
   "source": [
    "reinitalized_model.compile(optimizer=\"adam\",\n",
    "             loss=\"sparse_categorical_crossentropy\",\n",
    "             metrics=[\"acc\"])"
   ]
  },
  {
   "cell_type": "code",
   "execution_count": 30,
   "id": "a9699187",
   "metadata": {},
   "outputs": [
    {
     "data": {
      "text/plain": [
       "[2.4386163722991943, 0.0404]"
      ]
     },
     "execution_count": 30,
     "metadata": {},
     "output_type": "execute_result"
    }
   ],
   "source": [
    "reinitalized_model.evaluate(test_image,test_label,verbose=0)"
   ]
  },
  {
   "cell_type": "code",
   "execution_count": 34,
   "id": "e24c9909",
   "metadata": {},
   "outputs": [],
   "source": [
    "#只保存模型的权重 不考虑模型的框架\n",
    "weights = model.get_weights()"
   ]
  },
  {
   "cell_type": "code",
   "execution_count": 35,
   "id": "8f2aaa95",
   "metadata": {},
   "outputs": [
    {
     "data": {
      "text/plain": [
       "[array([[ 0.03498909,  0.02754167,  0.01419325, ...,  0.01515384,\n",
       "          0.00287122, -0.01639309],\n",
       "        [ 0.06342033,  0.10014813, -0.09023377, ...,  0.08796076,\n",
       "         -0.08161245, -0.10007311],\n",
       "        [ 0.11379308, -0.06903213, -0.01163419, ...,  0.11133079,\n",
       "          0.08197153, -0.17810833],\n",
       "        ...,\n",
       "        [ 0.109231  ,  0.02158348, -0.00081118, ..., -0.05722786,\n",
       "          0.01459199, -0.02115029],\n",
       "        [ 0.00110223, -0.06721625, -0.11059475, ..., -0.12928893,\n",
       "         -0.03507368,  0.05579888],\n",
       "        [ 0.04081593, -0.07992846, -0.01125868, ...,  0.04941183,\n",
       "          0.01818619,  0.05098635]], dtype=float32),\n",
       " array([ 0.41557255,  0.43741366,  0.15342861, -0.02853623,  0.02487368,\n",
       "        -0.12246306, -0.01799118,  0.36121488,  0.09773422, -0.01416309,\n",
       "         0.15038657, -0.03164763,  0.09264109,  0.37610695,  0.18730083,\n",
       "        -0.00859833,  0.3287927 ,  0.15724176, -0.31597263, -0.03097254,\n",
       "        -0.00541536,  0.39066803, -0.02429009,  0.06412885,  0.09704971,\n",
       "         0.18898562, -0.03610217,  0.29223442,  0.40817565,  0.110884  ,\n",
       "         0.24321583, -0.0192579 ,  0.0154001 ,  0.13109285,  0.2388092 ,\n",
       "         0.31212816, -0.10974601,  0.11131107, -0.01979211,  0.18182424,\n",
       "        -0.01742778, -0.01525275,  0.20024   ,  0.2818298 ,  0.11575732,\n",
       "        -0.01750791,  0.09009871, -0.01588535, -0.00994087, -0.03432678,\n",
       "         0.28352624,  0.2826704 , -0.09695614,  0.04021718, -0.1328556 ,\n",
       "        -0.1538438 ,  0.20042582,  0.040094  ,  0.20315784, -0.01448655,\n",
       "        -0.1653808 ,  0.3126137 ,  0.3462098 ,  0.37158865, -0.0168318 ,\n",
       "         0.01975938,  0.02710357,  0.14225627,  0.02003879,  0.1411709 ,\n",
       "         0.27567545, -0.34439284,  0.07075482,  0.2597016 , -0.16046412,\n",
       "         0.08641516, -0.13732846,  0.26738414, -0.05706979,  0.43447998,\n",
       "        -0.04292474,  0.1791173 ,  0.1262773 ,  0.04577031,  0.23063315,\n",
       "         0.01308835,  0.02350227, -0.05948775, -0.17041582,  0.13473299,\n",
       "         0.1153606 ,  0.10653736, -0.08083778, -0.01165961,  0.0184162 ,\n",
       "         0.08124515,  0.15440586,  0.09551121,  0.30483493,  0.34233016,\n",
       "        -0.00690376,  0.15314028, -0.20864598,  0.10964768, -0.09882327,\n",
       "         0.21197286,  0.23673294,  0.18522061,  0.10895305,  0.0806829 ,\n",
       "         0.5290737 ,  0.11238863,  0.1757074 , -0.03001185,  0.19014904,\n",
       "        -0.01768344,  0.12134241,  0.0825105 ,  0.32684746,  0.05296976,\n",
       "         0.12807359, -0.12484436,  0.20065683, -0.14290844, -0.0180578 ,\n",
       "         0.2590736 ,  0.31017765,  0.07918443], dtype=float32),\n",
       " array([[-0.07705379, -0.4820387 , -0.15852956, ...,  0.37103617,\n",
       "         -0.31361422, -0.27757725],\n",
       "        [-0.30963695, -0.68318295, -0.37387574, ...,  0.19027701,\n",
       "         -0.46451184,  0.18461259],\n",
       "        [ 0.05970796, -0.09516905,  0.17723483, ...,  0.02371319,\n",
       "         -0.34097925, -0.28721175],\n",
       "        ...,\n",
       "        [ 0.09310319, -0.00855764,  0.04320036, ..., -0.3330212 ,\n",
       "         -0.10467049, -0.2788996 ],\n",
       "        [ 0.05884246, -0.6390781 , -0.17400698, ..., -0.22331174,\n",
       "          0.13990718, -0.22122009],\n",
       "        [-0.23779942,  0.27083492, -0.10533192, ..., -0.12028345,\n",
       "         -0.21287826, -0.3365631 ]], dtype=float32),\n",
       " array([ 0.04314248, -0.2506482 ,  0.09180799,  0.16634174, -0.22356279,\n",
       "         0.21178414,  0.10884833,  0.09015016, -0.18718964, -0.33600044],\n",
       "       dtype=float32)]"
      ]
     },
     "execution_count": 35,
     "metadata": {},
     "output_type": "execute_result"
    }
   ],
   "source": [
    "weights"
   ]
  },
  {
   "cell_type": "code",
   "execution_count": 37,
   "id": "ee74d57a",
   "metadata": {},
   "outputs": [],
   "source": [
    "reinitalized_model.set_weights(weights)  #使用保存好的权重"
   ]
  },
  {
   "cell_type": "code",
   "execution_count": 38,
   "id": "d8c41d27",
   "metadata": {},
   "outputs": [
    {
     "data": {
      "text/plain": [
       "[0.36883706929683685, 0.8647]"
      ]
     },
     "execution_count": 38,
     "metadata": {},
     "output_type": "execute_result"
    }
   ],
   "source": [
    "reinitalized_model.evaluate(test_image,test_label,verbose=0)"
   ]
  },
  {
   "cell_type": "code",
   "execution_count": 39,
   "id": "ab32f33c",
   "metadata": {},
   "outputs": [],
   "source": [
    "#array 格式不利于保存在磁盘上使用其他命令\n",
    "model.save_weights(\"less_weights.h5\")"
   ]
  },
  {
   "cell_type": "code",
   "execution_count": 41,
   "id": "df98cdc3",
   "metadata": {},
   "outputs": [],
   "source": [
    "#使用权重\n",
    "reinitalized_model.load_weights(\"less_weights.h5\")"
   ]
  },
  {
   "cell_type": "code",
   "execution_count": 42,
   "id": "7f833d13",
   "metadata": {},
   "outputs": [
    {
     "data": {
      "text/plain": [
       "[0.36883706929683685, 0.8647]"
      ]
     },
     "execution_count": 42,
     "metadata": {},
     "output_type": "execute_result"
    }
   ],
   "source": [
    "reinitalized_model.evaluate(test_image,test_label,verbose=0)"
   ]
  },
  {
   "cell_type": "code",
   "execution_count": 2,
   "id": "9b9a7ed1",
   "metadata": {},
   "outputs": [],
   "source": [
    "#在训练期间或训练结束自动保存检查点 可从上次暂停的位置重新训练以防训练过程中断 回调函数tf.keras.callbacks.ModelCheckpoint"
   ]
  },
  {
   "cell_type": "code",
   "execution_count": 16,
   "id": "18c34b6a",
   "metadata": {},
   "outputs": [],
   "source": [
    "checkpoint_path = \"training_cp/cp.ckpt\"\n",
    "\n",
    "cp_callback = tf.keras.callbacks.ModelCheckpoint(checkpoint_path,\n",
    "                                                save_weights_only=True)"
   ]
  },
  {
   "cell_type": "code",
   "execution_count": 12,
   "id": "0d94e7b3",
   "metadata": {},
   "outputs": [
    {
     "name": "stderr",
     "output_type": "stream",
     "text": [
      "2021-11-23 15:01:40.667661: W tensorflow/stream_executor/platform/default/dso_loader.cc:55] Could not load dynamic library 'libcuda.so.1'; dlerror: libcuda.so.1: cannot open shared object file: No such file or directory\n",
      "2021-11-23 15:01:40.667678: E tensorflow/stream_executor/cuda/cuda_driver.cc:318] failed call to cuInit: UNKNOWN ERROR (303)\n",
      "2021-11-23 15:01:40.667689: I tensorflow/stream_executor/cuda/cuda_diagnostics.cc:156] kernel driver does not appear to be running on this host (mi-HP-ProDesk-680-G6-PCI-Microtower-PC): /proc/driver/nvidia/version does not exist\n",
      "2021-11-23 15:01:40.667782: I tensorflow/core/platform/cpu_feature_guard.cc:142] Your CPU supports instructions that this TensorFlow binary was not compiled to use: SSE4.1 SSE4.2 AVX AVX2 FMA\n",
      "2021-11-23 15:01:40.688446: I tensorflow/core/platform/profile_utils/cpu_utils.cc:94] CPU Frequency: 2899885000 Hz\n",
      "2021-11-23 15:01:40.688858: I tensorflow/compiler/xla/service/service.cc:168] XLA service 0x5583862a2e30 executing computations on platform Host. Devices:\n",
      "2021-11-23 15:01:40.688879: I tensorflow/compiler/xla/service/service.cc:175]   StreamExecutor device (0): Host, Default Version\n"
     ]
    }
   ],
   "source": [
    "model = tf.keras.Sequential()\n",
    "model.add(tf.keras.layers.Flatten(input_shape=(28,28)))\n",
    "model.add(tf.keras.layers.Dense(128,activation=\"relu\"))\n",
    "model.add(tf.keras.layers.Dense(10,activation=\"softmax\"))"
   ]
  },
  {
   "cell_type": "code",
   "execution_count": 13,
   "id": "bad8ffb8",
   "metadata": {},
   "outputs": [],
   "source": [
    "model.compile(optimizer=\"adam\",\n",
    "             loss=\"sparse_categorical_crossentropy\",\n",
    "             metrics=[\"acc\"])"
   ]
  },
  {
   "cell_type": "code",
   "execution_count": 14,
   "id": "4d26cd94",
   "metadata": {},
   "outputs": [
    {
     "data": {
      "text/plain": [
       "[2.477570721435547, 0.1298]"
      ]
     },
     "execution_count": 14,
     "metadata": {},
     "output_type": "execute_result"
    }
   ],
   "source": [
    "model.evaluate(test_image,test_label,verbose=0)"
   ]
  },
  {
   "cell_type": "markdown",
   "id": "794761db",
   "metadata": {},
   "source": [
    "model.load_weights(checkpoint_path)"
   ]
  },
  {
   "cell_type": "code",
   "execution_count": 17,
   "id": "6f4bfcfc",
   "metadata": {},
   "outputs": [
    {
     "data": {
      "text/plain": [
       "<tensorflow.python.training.tracking.util.CheckpointLoadStatus at 0x7f9661dc3d90>"
      ]
     },
     "execution_count": 17,
     "metadata": {},
     "output_type": "execute_result"
    }
   ],
   "source": [
    "model.load_weights(checkpoint_path)"
   ]
  },
  {
   "cell_type": "code",
   "execution_count": 18,
   "id": "4fdef8cd",
   "metadata": {},
   "outputs": [
    {
     "data": {
      "text/plain": [
       "[0.38227319135665894, 0.8614]"
      ]
     },
     "execution_count": 18,
     "metadata": {},
     "output_type": "execute_result"
    }
   ],
   "source": [
    "model.evaluate(test_image,test_label,verbose=0)"
   ]
  },
  {
   "cell_type": "code",
   "execution_count": null,
   "id": "2f90f2f2",
   "metadata": {},
   "outputs": [],
   "source": []
  },
  {
   "cell_type": "code",
   "execution_count": 18,
   "id": "1667ad21",
   "metadata": {},
   "outputs": [
    {
     "name": "stderr",
     "output_type": "stream",
     "text": [
      "2021-11-23 14:59:47.045336: W tensorflow/core/framework/cpu_allocator_impl.cc:81] Allocation of 376320000 exceeds 10% of system memory.\n"
     ]
    },
    {
     "name": "stdout",
     "output_type": "stream",
     "text": [
      "Train on 60000 samples\n",
      "Epoch 1/3\n",
      "60000/60000 [==============================] - 2s 39us/sample - loss: 0.5043 - acc: 0.8240\n",
      "Epoch 2/3\n",
      "60000/60000 [==============================] - 2s 25us/sample - loss: 0.3820 - acc: 0.8620\n",
      "Epoch 3/3\n",
      "60000/60000 [==============================] - 1s 25us/sample - loss: 0.3427 - acc: 0.8763\n"
     ]
    },
    {
     "data": {
      "text/plain": [
       "<tensorflow.python.keras.callbacks.History at 0x7f850479f050>"
      ]
     },
     "execution_count": 18,
     "metadata": {},
     "output_type": "execute_result"
    }
   ],
   "source": [
    "model.fit(train_image,train_label,epochs=3,callbacks=[cp_callback])"
   ]
  },
  {
   "cell_type": "code",
   "execution_count": null,
   "id": "58f34f2c",
   "metadata": {},
   "outputs": [],
   "source": []
  }
 ],
 "metadata": {
  "kernelspec": {
   "display_name": "Python 3 (ipykernel)",
   "language": "python",
   "name": "python3"
  },
  "language_info": {
   "codemirror_mode": {
    "name": "ipython",
    "version": 3
   },
   "file_extension": ".py",
   "mimetype": "text/x-python",
   "name": "python",
   "nbconvert_exporter": "python",
   "pygments_lexer": "ipython3",
   "version": "3.7.11"
  }
 },
 "nbformat": 4,
 "nbformat_minor": 5
}

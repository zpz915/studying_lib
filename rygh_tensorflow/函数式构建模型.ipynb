{
 "cells": [
  {
   "cell_type": "code",
   "execution_count": 5,
   "id": "75583ee5",
   "metadata": {},
   "outputs": [
    {
     "name": "stdout",
     "output_type": "stream",
     "text": [
      "ERROR! Session/line number was not unique in database. History logging moved to new session 28\n"
     ]
    }
   ],
   "source": [
    "import tensorflow as tf\n",
    "import pandas as pd\n",
    "import numpy as np\n",
    "import matplotlib.pyplot as plt\n",
    "from tensorflow import keras\n",
    "%matplotlib inline"
   ]
  },
  {
   "cell_type": "code",
   "execution_count": 2,
   "id": "1e2aa5a6",
   "metadata": {},
   "outputs": [],
   "source": [
    "(train_image,train_lable),(test_image,test_lable) = tf.keras.datasets.fashion_mnist.load_data()"
   ]
  },
  {
   "cell_type": "code",
   "execution_count": 3,
   "id": "27d4b23e",
   "metadata": {},
   "outputs": [],
   "source": [
    "#归一化\n",
    "train_image = train_image/255\n",
    "test_image = test_image/255"
   ]
  },
  {
   "cell_type": "code",
   "execution_count": 4,
   "id": "bdf292a2",
   "metadata": {},
   "outputs": [
    {
     "data": {
      "text/plain": [
       "(60000, 28, 28)"
      ]
     },
     "execution_count": 4,
     "metadata": {},
     "output_type": "execute_result"
    }
   ],
   "source": [
    "train_image.shape"
   ]
  },
  {
   "cell_type": "code",
   "execution_count": 6,
   "id": "b50e65b5",
   "metadata": {},
   "outputs": [],
   "source": [
    "input = keras.Input(shape=(28,28))"
   ]
  },
  {
   "cell_type": "code",
   "execution_count": 7,
   "id": "f2b0b827",
   "metadata": {},
   "outputs": [],
   "source": [
    "x = keras.layers.Flatten()(input)"
   ]
  },
  {
   "cell_type": "code",
   "execution_count": 8,
   "id": "9cb35b83",
   "metadata": {},
   "outputs": [
    {
     "name": "stderr",
     "output_type": "stream",
     "text": [
      "2021-11-15 11:25:38.828677: W tensorflow/stream_executor/platform/default/dso_loader.cc:55] Could not load dynamic library 'libcuda.so.1'; dlerror: libcuda.so.1: cannot open shared object file: No such file or directory\n",
      "2021-11-15 11:25:38.828701: E tensorflow/stream_executor/cuda/cuda_driver.cc:318] failed call to cuInit: UNKNOWN ERROR (303)\n",
      "2021-11-15 11:25:38.828718: I tensorflow/stream_executor/cuda/cuda_diagnostics.cc:156] kernel driver does not appear to be running on this host (mi-HP-ProDesk-680-G6-PCI-Microtower-PC): /proc/driver/nvidia/version does not exist\n",
      "2021-11-15 11:25:38.828899: I tensorflow/core/platform/cpu_feature_guard.cc:142] Your CPU supports instructions that this TensorFlow binary was not compiled to use: SSE4.1 SSE4.2 AVX AVX2 FMA\n",
      "2021-11-15 11:25:38.852299: I tensorflow/core/platform/profile_utils/cpu_utils.cc:94] CPU Frequency: 2899885000 Hz\n",
      "2021-11-15 11:25:38.852838: I tensorflow/compiler/xla/service/service.cc:168] XLA service 0x5596764496b0 executing computations on platform Host. Devices:\n",
      "2021-11-15 11:25:38.852854: I tensorflow/compiler/xla/service/service.cc:175]   StreamExecutor device (0): Host, Default Version\n"
     ]
    }
   ],
   "source": [
    "x = keras.layers.Dense(32,activation=\"relu\")(x)"
   ]
  },
  {
   "cell_type": "code",
   "execution_count": 9,
   "id": "b70b047a",
   "metadata": {},
   "outputs": [],
   "source": [
    "x = keras.layers.Dropout(0.5)(x)"
   ]
  },
  {
   "cell_type": "code",
   "execution_count": 10,
   "id": "94dd0229",
   "metadata": {},
   "outputs": [],
   "source": [
    "x = keras.layers.Dense(64,activation=\"relu\")(x)"
   ]
  },
  {
   "cell_type": "code",
   "execution_count": 11,
   "id": "0f9f5471",
   "metadata": {},
   "outputs": [],
   "source": [
    "output = keras.layers.Dense(10,activation=\"softmax\")(x)"
   ]
  },
  {
   "cell_type": "code",
   "execution_count": 12,
   "id": "dcbbfc2b",
   "metadata": {},
   "outputs": [],
   "source": [
    "model = keras.Model(inputs=input,outputs=output)"
   ]
  },
  {
   "cell_type": "code",
   "execution_count": 13,
   "id": "6482b222",
   "metadata": {},
   "outputs": [
    {
     "name": "stdout",
     "output_type": "stream",
     "text": [
      "Model: \"model\"\n",
      "_________________________________________________________________\n",
      "Layer (type)                 Output Shape              Param #   \n",
      "=================================================================\n",
      "input_1 (InputLayer)         [(None, 28, 28)]          0         \n",
      "_________________________________________________________________\n",
      "flatten (Flatten)            (None, 784)               0         \n",
      "_________________________________________________________________\n",
      "dense (Dense)                (None, 32)                25120     \n",
      "_________________________________________________________________\n",
      "dropout (Dropout)            (None, 32)                0         \n",
      "_________________________________________________________________\n",
      "dense_1 (Dense)              (None, 64)                2112      \n",
      "_________________________________________________________________\n",
      "dense_2 (Dense)              (None, 10)                650       \n",
      "=================================================================\n",
      "Total params: 27,882\n",
      "Trainable params: 27,882\n",
      "Non-trainable params: 0\n",
      "_________________________________________________________________\n"
     ]
    }
   ],
   "source": [
    "model.summary()"
   ]
  },
  {
   "cell_type": "code",
   "execution_count": 14,
   "id": "6baa1450",
   "metadata": {},
   "outputs": [],
   "source": [
    "model.compile(optimizer=\"adam\",\n",
    "             loss=\"sparse_categorical_crossentropy\",\n",
    "             metrics=[\"acc\"])      #标签值是顺序类型时候用这种损失函数   独热编码损失函数见下文"
   ]
  },
  {
   "cell_type": "code",
   "execution_count": 15,
   "id": "8e2395e3",
   "metadata": {},
   "outputs": [
    {
     "name": "stdout",
     "output_type": "stream",
     "text": [
      "ERROR! Session/line number was not unique in database. History logging moved to new session 29\n",
      "Train on 60000 samples, validate on 10000 samples\n",
      "Epoch 1/10\n",
      "WARNING:tensorflow:Entity <function Function._initialize_uninitialized_variables.<locals>.initialize_variables at 0x7f335948f710> could not be transformed and will be executed as-is. Please report this to the AutoGraph team. When filing the bug, set the verbosity to 10 (on Linux, `export AUTOGRAPH_VERBOSITY=10`) and attach the full output. Cause: No module named 'tensorflow_core.estimator'\n"
     ]
    },
    {
     "name": "stderr",
     "output_type": "stream",
     "text": [
      "WARNING:tensorflow:Entity <function Function._initialize_uninitialized_variables.<locals>.initialize_variables at 0x7f335948f710> could not be transformed and will be executed as-is. Please report this to the AutoGraph team. When filing the bug, set the verbosity to 10 (on Linux, `export AUTOGRAPH_VERBOSITY=10`) and attach the full output. Cause: No module named 'tensorflow_core.estimator'\n"
     ]
    },
    {
     "name": "stdout",
     "output_type": "stream",
     "text": [
      "WARNING: Entity <function Function._initialize_uninitialized_variables.<locals>.initialize_variables at 0x7f335948f710> could not be transformed and will be executed as-is. Please report this to the AutoGraph team. When filing the bug, set the verbosity to 10 (on Linux, `export AUTOGRAPH_VERBOSITY=10`) and attach the full output. Cause: No module named 'tensorflow_core.estimator'\n",
      "60000/60000 [==============================] - 2s 34us/sample - loss: 0.8300 - acc: 0.6934 - val_loss: 0.5290 - val_acc: 0.8173\n",
      "Epoch 2/10\n",
      "60000/60000 [==============================] - 2s 30us/sample - loss: 0.6259 - acc: 0.7680 - val_loss: 0.6055 - val_acc: 0.7737\n",
      "Epoch 3/10\n",
      "60000/60000 [==============================] - 2s 30us/sample - loss: 0.5937 - acc: 0.7801 - val_loss: 0.5078 - val_acc: 0.8198\n",
      "Epoch 4/10\n",
      "60000/60000 [==============================] - 2s 30us/sample - loss: 0.5628 - acc: 0.7920 - val_loss: 0.5157 - val_acc: 0.7970\n",
      "Epoch 5/10\n",
      "60000/60000 [==============================] - 2s 30us/sample - loss: 0.5504 - acc: 0.7968 - val_loss: 0.5553 - val_acc: 0.7903\n",
      "Epoch 6/10\n",
      "60000/60000 [==============================] - 2s 30us/sample - loss: 0.5354 - acc: 0.8033 - val_loss: 0.5066 - val_acc: 0.8249\n",
      "Epoch 7/10\n",
      "60000/60000 [==============================] - 2s 30us/sample - loss: 0.5251 - acc: 0.8062 - val_loss: 0.5191 - val_acc: 0.8024\n",
      "Epoch 8/10\n",
      "60000/60000 [==============================] - 2s 30us/sample - loss: 0.5198 - acc: 0.8083 - val_loss: 0.5001 - val_acc: 0.8296\n",
      "Epoch 9/10\n",
      "60000/60000 [==============================] - 2s 29us/sample - loss: 0.5118 - acc: 0.8105 - val_loss: 0.5375 - val_acc: 0.7950\n",
      "Epoch 10/10\n",
      "60000/60000 [==============================] - 2s 30us/sample - loss: 0.5036 - acc: 0.8152 - val_loss: 0.5348 - val_acc: 0.8009\n"
     ]
    }
   ],
   "source": [
    "history = model.fit(train_image,train_lable,epochs=10,validation_data = (test_image,test_lable))"
   ]
  },
  {
   "cell_type": "code",
   "execution_count": null,
   "id": "8c80d523",
   "metadata": {},
   "outputs": [],
   "source": []
  }
 ],
 "metadata": {
  "kernelspec": {
   "display_name": "Python 3 (ipykernel)",
   "language": "python",
   "name": "python3"
  },
  "language_info": {
   "codemirror_mode": {
    "name": "ipython",
    "version": 3
   },
   "file_extension": ".py",
   "mimetype": "text/x-python",
   "name": "python",
   "nbconvert_exporter": "python",
   "pygments_lexer": "ipython3",
   "version": "3.7.11"
  }
 },
 "nbformat": 4,
 "nbformat_minor": 5
}

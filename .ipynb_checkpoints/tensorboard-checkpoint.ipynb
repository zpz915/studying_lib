{
 "cells": [
  {
   "cell_type": "code",
   "execution_count": 20,
   "id": "3309ef14",
   "metadata": {},
   "outputs": [],
   "source": [
    "import tensorflow as tf\n",
    "import datetime"
   ]
  },
  {
   "cell_type": "code",
   "execution_count": 2,
   "id": "dcba046a",
   "metadata": {},
   "outputs": [],
   "source": [
    "(train_image,train_labels),(test_image,test_labels) = tf.keras.datasets.mnist.load_data()"
   ]
  },
  {
   "cell_type": "code",
   "execution_count": 3,
   "id": "46086eb2",
   "metadata": {},
   "outputs": [
    {
     "data": {
      "text/plain": [
       "(60000, 28, 28)"
      ]
     },
     "execution_count": 3,
     "metadata": {},
     "output_type": "execute_result"
    }
   ],
   "source": [
    "train_image.shape"
   ]
  },
  {
   "cell_type": "code",
   "execution_count": 4,
   "id": "0fa1fd1f",
   "metadata": {},
   "outputs": [
    {
     "name": "stderr",
     "output_type": "stream",
     "text": [
      "2021-11-26 13:43:31.881966: W tensorflow/stream_executor/platform/default/dso_loader.cc:55] Could not load dynamic library 'libcuda.so.1'; dlerror: libcuda.so.1: cannot open shared object file: No such file or directory\n",
      "2021-11-26 13:43:31.881991: E tensorflow/stream_executor/cuda/cuda_driver.cc:318] failed call to cuInit: UNKNOWN ERROR (303)\n",
      "2021-11-26 13:43:31.882006: I tensorflow/stream_executor/cuda/cuda_diagnostics.cc:156] kernel driver does not appear to be running on this host (mi-HP-ProDesk-680-G6-PCI-Microtower-PC): /proc/driver/nvidia/version does not exist\n",
      "2021-11-26 13:43:31.882370: I tensorflow/core/platform/cpu_feature_guard.cc:142] Your CPU supports instructions that this TensorFlow binary was not compiled to use: AVX2 FMA\n",
      "2021-11-26 13:43:31.904161: I tensorflow/core/platform/profile_utils/cpu_utils.cc:94] CPU Frequency: 2899885000 Hz\n",
      "2021-11-26 13:43:31.904894: I tensorflow/compiler/xla/service/service.cc:168] XLA service 0x55ef78adeb60 executing computations on platform Host. Devices:\n",
      "2021-11-26 13:43:31.904956: I tensorflow/compiler/xla/service/service.cc:175]   StreamExecutor device (0): Host, Default Version\n"
     ]
    }
   ],
   "source": [
    "train_image = tf.expand_dims(train_image,-1)"
   ]
  },
  {
   "cell_type": "code",
   "execution_count": 5,
   "id": "3daa5ccb",
   "metadata": {},
   "outputs": [],
   "source": [
    "test_image = tf.expand_dims(test_image,-1)"
   ]
  },
  {
   "cell_type": "code",
   "execution_count": 6,
   "id": "fe98907a",
   "metadata": {},
   "outputs": [
    {
     "data": {
      "text/plain": [
       "TensorShape([60000, 28, 28, 1])"
      ]
     },
     "execution_count": 6,
     "metadata": {},
     "output_type": "execute_result"
    }
   ],
   "source": [
    "train_image.shape"
   ]
  },
  {
   "cell_type": "code",
   "execution_count": 7,
   "id": "0da9a26e",
   "metadata": {},
   "outputs": [],
   "source": [
    "train_image = tf.cast(train_image/255,tf.float32) #计算梯度 都是float类型"
   ]
  },
  {
   "cell_type": "code",
   "execution_count": 8,
   "id": "4553ebe7",
   "metadata": {},
   "outputs": [],
   "source": [
    "test_image = tf.cast(test_image/255,tf.float32)"
   ]
  },
  {
   "cell_type": "code",
   "execution_count": 9,
   "id": "dfdf81b8",
   "metadata": {},
   "outputs": [],
   "source": [
    "train_labels = tf.cast(train_labels,tf.int64)"
   ]
  },
  {
   "cell_type": "code",
   "execution_count": 10,
   "id": "05873e7f",
   "metadata": {},
   "outputs": [],
   "source": [
    "test_labels = tf.cast(test_labels,tf.int64)"
   ]
  },
  {
   "cell_type": "code",
   "execution_count": 11,
   "id": "628eaf3c",
   "metadata": {},
   "outputs": [],
   "source": [
    "dataset = tf.data.Dataset.from_tensor_slices((train_image,train_labels))"
   ]
  },
  {
   "cell_type": "code",
   "execution_count": 12,
   "id": "f750d93e",
   "metadata": {},
   "outputs": [],
   "source": [
    "test_dataset = tf.data.Dataset.from_tensor_slices((test_image,test_labels))"
   ]
  },
  {
   "cell_type": "code",
   "execution_count": 13,
   "id": "d5815fa0",
   "metadata": {},
   "outputs": [
    {
     "data": {
      "text/plain": [
       "<TensorSliceDataset shapes: ((28, 28, 1), ()), types: (tf.float32, tf.int64)>"
      ]
     },
     "execution_count": 13,
     "metadata": {},
     "output_type": "execute_result"
    }
   ],
   "source": [
    "dataset"
   ]
  },
  {
   "cell_type": "code",
   "execution_count": 14,
   "id": "aa26f890",
   "metadata": {},
   "outputs": [],
   "source": [
    "dataset = dataset.repeat().shuffle(60000).batch(128)  #混洗 和 批次化 "
   ]
  },
  {
   "cell_type": "code",
   "execution_count": 15,
   "id": "e9900d37",
   "metadata": {},
   "outputs": [],
   "source": [
    "test_dataset = test_dataset.repeat().batch(128)"
   ]
  },
  {
   "cell_type": "code",
   "execution_count": 16,
   "id": "3a30ef8e",
   "metadata": {},
   "outputs": [
    {
     "data": {
      "text/plain": [
       "<BatchDataset shapes: ((None, 28, 28, 1), (None,)), types: (tf.float32, tf.int64)>"
      ]
     },
     "execution_count": 16,
     "metadata": {},
     "output_type": "execute_result"
    }
   ],
   "source": [
    "dataset"
   ]
  },
  {
   "cell_type": "code",
   "execution_count": 17,
   "id": "0bcd04a6",
   "metadata": {},
   "outputs": [],
   "source": [
    "model = tf.keras.Sequential([\n",
    "    tf.keras.layers.Conv2D(16,[3,3],activation=\"relu\",input_shape=(None,None,1)), #任意形状\n",
    "    tf.keras.layers.Conv2D(32,[3,3],activation=\"relu\"),\n",
    "    tf.keras.layers.GlobalMaxPooling2D(),\n",
    "    tf.keras.layers.Dense(10,activation=\"softmax\")\n",
    "    \n",
    "    \n",
    "])"
   ]
  },
  {
   "cell_type": "code",
   "execution_count": 18,
   "id": "07676cef",
   "metadata": {},
   "outputs": [],
   "source": [
    "model.compile(optimizer=\"adam\",\n",
    "             loss=\"sparse_categorical_crossentropy\",\n",
    "             metrics=[\"accuracy\"])"
   ]
  },
  {
   "cell_type": "code",
   "execution_count": 21,
   "id": "47e99edb",
   "metadata": {},
   "outputs": [],
   "source": [
    "import os\n",
    "log_dir = os.path.join(\"logs\",datetime.datetime.now().strftime(\"%Y%m%d-%H%M%S\"))"
   ]
  },
  {
   "cell_type": "code",
   "execution_count": 22,
   "id": "419d457b",
   "metadata": {},
   "outputs": [],
   "source": [
    "tensorboard_callback = tf.keras.callbacks.TensorBoard(log_dir,histogram_freq=1,)"
   ]
  },
  {
   "cell_type": "code",
   "execution_count": 23,
   "id": "5442e9ff",
   "metadata": {},
   "outputs": [
    {
     "name": "stdout",
     "output_type": "stream",
     "text": [
      "Train for 468 steps, validate for 78 steps\n",
      "Epoch 1/5\n",
      "  6/468 [..............................] - ETA: 1:18 - loss: 2.3247 - accuracy: 0.0964"
     ]
    },
    {
     "name": "stderr",
     "output_type": "stream",
     "text": [
      "2021-11-26 14:11:04.903607: I tensorflow/core/profiler/lib/profiler_session.cc:184] Profiler session started.\n",
      "2021-11-26 14:11:04.903666: E tensorflow/core/platform/default/device_tracer.cc:70] CUDA error: <unknown>\n"
     ]
    },
    {
     "name": "stdout",
     "output_type": "stream",
     "text": [
      "468/468 [==============================] - 15s 33ms/step - loss: 1.4294 - accuracy: 0.5786 - val_loss: 0.7689 - val_accuracy: 0.7675\n",
      "Epoch 2/5\n",
      "468/468 [==============================] - 15s 31ms/step - loss: 0.6322 - accuracy: 0.8047 - val_loss: 0.4899 - val_accuracy: 0.8456\n",
      "Epoch 3/5\n",
      "468/468 [==============================] - 15s 31ms/step - loss: 0.4713 - accuracy: 0.8512 - val_loss: 0.4069 - val_accuracy: 0.8749\n",
      "Epoch 4/5\n",
      "468/468 [==============================] - 15s 31ms/step - loss: 0.4064 - accuracy: 0.8701 - val_loss: 0.3698 - val_accuracy: 0.8839\n",
      "Epoch 5/5\n",
      "468/468 [==============================] - 15s 31ms/step - loss: 0.3668 - accuracy: 0.8831 - val_loss: 0.3304 - val_accuracy: 0.8975\n"
     ]
    },
    {
     "data": {
      "text/plain": [
       "<tensorflow.python.keras.callbacks.History at 0x7f91d8934ed0>"
      ]
     },
     "execution_count": 23,
     "metadata": {},
     "output_type": "execute_result"
    }
   ],
   "source": [
    "model.fit(dataset,\n",
    "         epochs=5,\n",
    "         steps_per_epoch=60000//128,\n",
    "         validation_data = test_dataset,\n",
    "         validation_steps = 10000//128,\n",
    "         callbacks = [tensorboard_callback])"
   ]
  },
  {
   "cell_type": "code",
   "execution_count": 24,
   "id": "ac794a79",
   "metadata": {},
   "outputs": [],
   "source": [
    "#在notebook 显示界面\n",
    "%load_ext tensorboard\n",
    "%matplotlib inline"
   ]
  },
  {
   "cell_type": "code",
   "execution_count": 25,
   "id": "71f4a62b",
   "metadata": {},
   "outputs": [
    {
     "data": {
      "text/html": [
       "\n",
       "      <iframe id=\"tensorboard-frame-a71d154f02af15f8\" width=\"100%\" height=\"800\" frameborder=\"0\">\n",
       "      </iframe>\n",
       "      <script>\n",
       "        (function() {\n",
       "          const frame = document.getElementById(\"tensorboard-frame-a71d154f02af15f8\");\n",
       "          const url = new URL(\"/\", window.location);\n",
       "          url.port = 6006;\n",
       "          frame.src = url;\n",
       "        })();\n",
       "      </script>\n",
       "  "
      ],
      "text/plain": [
       "<IPython.core.display.HTML object>"
      ]
     },
     "metadata": {},
     "output_type": "display_data"
    }
   ],
   "source": [
    "%tensorboard --logdir logs"
   ]
  },
  {
   "cell_type": "code",
   "execution_count": 26,
   "id": "a62fcec7",
   "metadata": {},
   "outputs": [],
   "source": [
    "#如果想在浏览器打开这个画板  通过终端 在log文件下面 打下tensorboard --logdir logs"
   ]
  },
  {
   "cell_type": "code",
   "execution_count": 33,
   "id": "dd7778da",
   "metadata": {},
   "outputs": [],
   "source": [
    "#自定义标量\n",
    "def lr_sche(epoch):\n",
    "    learning_rate = 0.2\n",
    "    if epoch>5:\n",
    "        learning_rate = 0.02\n",
    "    if epoch>10:\n",
    "        learning_rate = 0.01\n",
    "    if epoch>20:\n",
    "        learning_rate = 0.005\n",
    "    tf.summary.scalar(\"learning_rate\",data=learning_rate,step=epoch)  #把学习率写入文件夹\n",
    "    return learning_rate\n"
   ]
  },
  {
   "cell_type": "raw",
   "id": "d545728c",
   "metadata": {},
   "source": []
  },
  {
   "cell_type": "code",
   "execution_count": 34,
   "id": "b105544e",
   "metadata": {},
   "outputs": [],
   "source": [
    "lr_callback = tf.keras.callbacks.LearningRateScheduler(lr_sche) #训练过程中控制学习速率"
   ]
  },
  {
   "cell_type": "code",
   "execution_count": 35,
   "id": "20de96bd",
   "metadata": {},
   "outputs": [],
   "source": [
    "file_writer = tf.summary.create_file_writer(log_dir + \"/lr\")#写入文件 把学习速率"
   ]
  },
  {
   "cell_type": "code",
   "execution_count": 36,
   "id": "6001635c",
   "metadata": {},
   "outputs": [],
   "source": [
    "file_writer.set_as_default()#设为默认的文件编辑器"
   ]
  },
  {
   "cell_type": "code",
   "execution_count": null,
   "id": "d7d601c1",
   "metadata": {},
   "outputs": [],
   "source": []
  },
  {
   "cell_type": "code",
   "execution_count": null,
   "id": "e9409a24",
   "metadata": {},
   "outputs": [],
   "source": []
  },
  {
   "cell_type": "code",
   "execution_count": 37,
   "id": "809871f7",
   "metadata": {},
   "outputs": [
    {
     "name": "stdout",
     "output_type": "stream",
     "text": [
      "Train for 468 steps, validate for 78 steps\n",
      "Epoch 1/25\n",
      "468/468 [==============================] - 15s 32ms/step - loss: 2.3137 - accuracy: 0.1027 - val_loss: 2.3047 - val_accuracy: 0.1135\n",
      "Epoch 2/25\n",
      "468/468 [==============================] - 14s 30ms/step - loss: 2.3137 - accuracy: 0.1034 - val_loss: 2.3064 - val_accuracy: 0.1029\n",
      "Epoch 3/25\n",
      "468/468 [==============================] - 15s 32ms/step - loss: 2.3133 - accuracy: 0.1012 - val_loss: 2.3172 - val_accuracy: 0.1010\n",
      "Epoch 4/25\n",
      "468/468 [==============================] - 15s 32ms/step - loss: 2.3125 - accuracy: 0.1051 - val_loss: 2.3134 - val_accuracy: 0.1010\n",
      "Epoch 5/25\n",
      "468/468 [==============================] - 15s 32ms/step - loss: 2.3120 - accuracy: 0.1050 - val_loss: 2.3243 - val_accuracy: 0.1135\n",
      "Epoch 6/25\n",
      "468/468 [==============================] - 14s 30ms/step - loss: 2.3137 - accuracy: 0.1022 - val_loss: 2.3217 - val_accuracy: 0.1010\n",
      "Epoch 7/25\n",
      "468/468 [==============================] - 14s 31ms/step - loss: 2.3030 - accuracy: 0.1078 - val_loss: 2.3017 - val_accuracy: 0.1135\n",
      "Epoch 8/25\n",
      "468/468 [==============================] - 14s 29ms/step - loss: 2.3026 - accuracy: 0.1109 - val_loss: 2.3029 - val_accuracy: 0.1029\n",
      "Epoch 9/25\n",
      "468/468 [==============================] - 15s 31ms/step - loss: 2.3024 - accuracy: 0.1104 - val_loss: 2.3030 - val_accuracy: 0.1135\n",
      "Epoch 10/25\n",
      "468/468 [==============================] - 14s 31ms/step - loss: 2.3025 - accuracy: 0.1098 - val_loss: 2.3023 - val_accuracy: 0.1135\n",
      "Epoch 11/25\n",
      "468/468 [==============================] - 14s 31ms/step - loss: 2.3027 - accuracy: 0.1105 - val_loss: 2.3018 - val_accuracy: 0.1135\n",
      "Epoch 12/25\n",
      "468/468 [==============================] - 14s 31ms/step - loss: 2.3017 - accuracy: 0.1115 - val_loss: 2.3012 - val_accuracy: 0.1135\n",
      "Epoch 13/25\n",
      "468/468 [==============================] - 14s 31ms/step - loss: 2.3019 - accuracy: 0.1120 - val_loss: 2.3012 - val_accuracy: 0.1135\n",
      "Epoch 14/25\n",
      "468/468 [==============================] - 14s 30ms/step - loss: 2.3020 - accuracy: 0.1093 - val_loss: 2.3022 - val_accuracy: 0.1135\n",
      "Epoch 15/25\n",
      "468/468 [==============================] - 14s 31ms/step - loss: 2.3020 - accuracy: 0.1117 - val_loss: 2.3015 - val_accuracy: 0.1135\n",
      "Epoch 16/25\n",
      "468/468 [==============================] - 15s 32ms/step - loss: 2.3016 - accuracy: 0.1131 - val_loss: 2.3015 - val_accuracy: 0.1135\n",
      "Epoch 17/25\n",
      "468/468 [==============================] - 15s 31ms/step - loss: 2.3020 - accuracy: 0.1102 - val_loss: 2.3015 - val_accuracy: 0.1135\n",
      "Epoch 18/25\n",
      "468/468 [==============================] - 15s 31ms/step - loss: 2.3019 - accuracy: 0.1104 - val_loss: 2.3024 - val_accuracy: 0.1010\n",
      "Epoch 19/25\n",
      "468/468 [==============================] - 14s 31ms/step - loss: 2.3020 - accuracy: 0.1111 - val_loss: 2.3023 - val_accuracy: 0.1135\n",
      "Epoch 20/25\n",
      "468/468 [==============================] - 14s 31ms/step - loss: 2.3019 - accuracy: 0.1128 - val_loss: 2.3015 - val_accuracy: 0.1135\n",
      "Epoch 21/25\n",
      "468/468 [==============================] - 14s 31ms/step - loss: 2.3016 - accuracy: 0.1107 - val_loss: 2.3022 - val_accuracy: 0.0981\n",
      "Epoch 22/25\n",
      "468/468 [==============================] - 14s 31ms/step - loss: 2.3015 - accuracy: 0.1123 - val_loss: 2.3010 - val_accuracy: 0.1135\n",
      "Epoch 23/25\n",
      "468/468 [==============================] - 14s 31ms/step - loss: 2.3014 - accuracy: 0.1125 - val_loss: 2.3011 - val_accuracy: 0.1135\n",
      "Epoch 24/25\n",
      "468/468 [==============================] - 14s 31ms/step - loss: 2.3016 - accuracy: 0.1113 - val_loss: 2.3014 - val_accuracy: 0.1135\n",
      "Epoch 25/25\n",
      "468/468 [==============================] - 14s 30ms/step - loss: 2.3013 - accuracy: 0.1134 - val_loss: 2.3014 - val_accuracy: 0.1135\n"
     ]
    },
    {
     "data": {
      "text/plain": [
       "<tensorflow.python.keras.callbacks.History at 0x7f91b02f3150>"
      ]
     },
     "execution_count": 37,
     "metadata": {},
     "output_type": "execute_result"
    }
   ],
   "source": [
    "model.fit(dataset,\n",
    "         epochs=25,\n",
    "         steps_per_epoch=60000//128,\n",
    "         validation_data = test_dataset,\n",
    "         validation_steps = 10000//128,\n",
    "         callbacks = [tensorboard_callback,lr_callback])"
   ]
  },
  {
   "cell_type": "code",
   "execution_count": null,
   "id": "4a2e24b5",
   "metadata": {},
   "outputs": [],
   "source": [
    "#自定义循环中使用tensorboard"
   ]
  },
  {
   "cell_type": "code",
   "execution_count": 39,
   "id": "d3132ad4",
   "metadata": {},
   "outputs": [],
   "source": [
    "optimizer = tf.keras.optimizers.Adam()"
   ]
  },
  {
   "cell_type": "code",
   "execution_count": 40,
   "id": "4ccbd1e1",
   "metadata": {},
   "outputs": [],
   "source": [
    "loss_func = tf.keras.losses.SparseCategoricalCrossentropy()"
   ]
  },
  {
   "cell_type": "code",
   "execution_count": 41,
   "id": "7c3c3bca",
   "metadata": {},
   "outputs": [],
   "source": [
    "def loss(model,x,y):\n",
    "    y_ = model(x)\n",
    "    return loss_func(y,y_)  #记录交叉商损失"
   ]
  },
  {
   "cell_type": "code",
   "execution_count": 42,
   "id": "8b1d8fd9",
   "metadata": {},
   "outputs": [],
   "source": [
    "train_loss = tf.keras.metrics.Mean(\"train_loss\")\n",
    "train_accuracy = tf.keras.metrics.SparseCategoricalAccuracy(\"train_accuracy\")\n",
    "\n",
    "\n",
    "test_loss = tf.keras.metrics.Mean(\"test_loss\")\n",
    "test_accuracy = tf.keras.metrics.SparseCategoricalAccuracy(\"test_accuracy\")\n"
   ]
  },
  {
   "cell_type": "code",
   "execution_count": 43,
   "id": "c47fecfb",
   "metadata": {},
   "outputs": [],
   "source": [
    "#定义单步训练  计算损失函数\n",
    "def train_step(model,images,labels):\n",
    "    with tf.GradientTape() as t :\n",
    "        pred = model(images)\n",
    "        loss_step = loss_func(labels,pred) \n",
    "    grads = t.gradient(loss_step,model.trainable_variables)\n",
    "    optimizer.apply_gradients(zip(grads,model.trainable_variables)) #优化函数的应用\n",
    "    train_loss(loss_step)  #自动求值  得到平均\n",
    "    train_accuracy(labels,pred)"
   ]
  },
  {
   "cell_type": "code",
   "execution_count": 44,
   "id": "1c402896",
   "metadata": {},
   "outputs": [],
   "source": [
    "def test_step(model,images,labels):\n",
    "   \n",
    "    pred = model(images)\n",
    "    loss_step = loss_func(labels,pred) \n",
    "\n",
    "    test_loss(loss_step)  #自动求值  得到平均\n",
    "    test_accuracy(labels,pred)"
   ]
  },
  {
   "cell_type": "code",
   "execution_count": 45,
   "id": "e9558372",
   "metadata": {},
   "outputs": [],
   "source": [
    "current_time =datetime.datetime.now().strftime(\"%Y%m%d-%H%M%S\")"
   ]
  },
  {
   "cell_type": "code",
   "execution_count": 49,
   "id": "6fe32b8c",
   "metadata": {},
   "outputs": [],
   "source": [
    "train_log_dir = 'logs/gradient_tape' + current_time +'/train'\n",
    "test_log_dir = 'logs/gradient_tape' + current_time + '/test'\n",
    "train_writer = tf.summary.create_file_writer(train_log_dir)\n",
    "test_writer = tf.summary.create_file_writer(test_log_dir)"
   ]
  },
  {
   "cell_type": "code",
   "execution_count": 50,
   "id": "3e53aa61",
   "metadata": {},
   "outputs": [],
   "source": [
    "def train():  #这就是fit内部函数实现机理\n",
    "    for epoch in range(10):\n",
    "        for (batch,(images,labels)) in enumerate(dataset):  #开始迭代每一个数据\n",
    "            train_step(model,images,labels)\n",
    "        with train_writer.as_default(): #设置为默认的文件编辑器\n",
    "            tf.summary.scalar('loss',train_loss.result(),step=epoch) #收集标准值\n",
    "            tf.summary.scalar('acc',train_accuracy.result(),step=epoch)\n",
    "\n",
    "        for (batch,(images,labels)) in enumerate(test_dataset):  #每训练一轮  在验证集测试一次\n",
    "            test_step(model,images,labels)\n",
    "            print(\"*\",end=\"\")\n",
    "        with test_writer.as_default(): #设置为默认的文件编辑器\n",
    "            tf.summary.scalar('loss',test_loss.result(),step=epoch) #收集标准值\n",
    "            tf.summary.scalar('acc',test_accuracy.result(),step=epoch)\n",
    "            \n",
    "            \n",
    "            \n",
    "            \n",
    "        print(\"Epoch{} test_loss is {},tes_accuracy is {}\".format(epoch,\n",
    "                                                         test_loss.result(),\n",
    "                                                         test_accuracy.result()\n",
    "                                                        ))\n",
    "        \n",
    "        train_loss.reset_states()#重置变量 避免一次二次bacth相加\n",
    "        train_accuracy.reset_states()\n",
    "        test_loss.reset_states()#重置变量 避免一次二次bacth相加\n",
    "        test_accuracy.reset_states()"
   ]
  },
  {
   "cell_type": "code",
   "execution_count": null,
   "id": "c53a8b21",
   "metadata": {},
   "outputs": [],
   "source": [
    "train()"
   ]
  },
  {
   "cell_type": "code",
   "execution_count": null,
   "id": "1309b12a",
   "metadata": {},
   "outputs": [],
   "source": []
  }
 ],
 "metadata": {
  "kernelspec": {
   "display_name": "Python 3 (ipykernel)",
   "language": "python",
   "name": "python3"
  },
  "language_info": {
   "codemirror_mode": {
    "name": "ipython",
    "version": 3
   },
   "file_extension": ".py",
   "mimetype": "text/x-python",
   "name": "python",
   "nbconvert_exporter": "python",
   "pygments_lexer": "ipython3",
   "version": "3.7.11"
  }
 },
 "nbformat": 4,
 "nbformat_minor": 5
}
